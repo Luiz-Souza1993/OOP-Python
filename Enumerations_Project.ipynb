{
 "cells": [
  {
   "cell_type": "markdown",
   "id": "d27437e9",
   "metadata": {},
   "source": [
    "### Enumerations Project"
   ]
  },
  {
   "cell_type": "code",
   "execution_count": 1,
   "id": "813f6081",
   "metadata": {},
   "outputs": [],
   "source": [
    "class GenericException(Exception):\n",
    "    pass"
   ]
  },
  {
   "cell_type": "code",
   "execution_count": 2,
   "id": "7549850f",
   "metadata": {},
   "outputs": [],
   "source": [
    "class Timeout(Exception):\n",
    "    pass"
   ]
  },
  {
   "cell_type": "code",
   "execution_count": 3,
   "id": "b98fc365",
   "metadata": {},
   "outputs": [],
   "source": [
    "from enum import Enum, unique"
   ]
  },
  {
   "cell_type": "code",
   "execution_count": 12,
   "id": "0a66a7d7",
   "metadata": {},
   "outputs": [],
   "source": [
    "@unique\n",
    "class AppExcepetion(Enum):\n",
    "    Generic = 100, GenericException, 'Application exception'\n",
    "    Timeout = 101, Timeout, 'Timeout connecting to resource'\n",
    "    NotAnInteger = 200, ValueError, 'Value must be an integer'\n",
    "    NotAlist = 201, ValueError, 'Value must be a list'\n",
    "    \n",
    "    def __new__(cls, ex_code, ex_class, ex_message):\n",
    "        member = object.__new__(cls)\n",
    "        \n",
    "        member._value_ = ex_code\n",
    "        member.exception = ex_class\n",
    "        member.message = ex_message\n",
    "        return member\n",
    "    \n",
    "    @property\n",
    "    def code(self):\n",
    "        return self.value\n",
    "    \n",
    "    def throw(self, message = None):\n",
    "        message = message or self.message\n",
    "        raise self.exception(f'{self.code} - {message}')"
   ]
  },
  {
   "cell_type": "code",
   "execution_count": 13,
   "id": "83096ed0",
   "metadata": {},
   "outputs": [
    {
     "name": "stdout",
     "output_type": "stream",
     "text": [
      "200 - Value must be an integer\n"
     ]
    }
   ],
   "source": [
    "try:\n",
    "    raise AppExcepetion.NotAnInteger.throw()\n",
    "except Exception as ex:\n",
    "    print(ex)"
   ]
  },
  {
   "cell_type": "code",
   "execution_count": 15,
   "id": "db9b5149",
   "metadata": {},
   "outputs": [
    {
     "data": {
      "text/plain": [
       "[('Generic', 100, 'Application exception'),\n",
       " ('Timeout', 101, 'Timeout connecting to resource'),\n",
       " ('NotAnInteger', 200, 'Value must be an integer'),\n",
       " ('NotAlist', 201, 'Value must be a list')]"
      ]
     },
     "execution_count": 15,
     "metadata": {},
     "output_type": "execute_result"
    }
   ],
   "source": [
    "[(ex.name, ex.code, ex.message) for ex in AppExcepetion]"
   ]
  }
 ],
 "metadata": {
  "kernelspec": {
   "display_name": "Python 3 (ipykernel)",
   "language": "python",
   "name": "python3"
  },
  "language_info": {
   "codemirror_mode": {
    "name": "ipython",
    "version": 3
   },
   "file_extension": ".py",
   "mimetype": "text/x-python",
   "name": "python",
   "nbconvert_exporter": "python",
   "pygments_lexer": "ipython3",
   "version": "3.11.2"
  }
 },
 "nbformat": 4,
 "nbformat_minor": 5
}
