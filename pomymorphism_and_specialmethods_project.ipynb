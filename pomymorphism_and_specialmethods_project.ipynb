{
 "cells": [
  {
   "cell_type": "markdown",
   "id": "134a4b9d",
   "metadata": {},
   "source": [
    "### Polymorphism and Special Methods"
   ]
  },
  {
   "cell_type": "code",
   "execution_count": 1,
   "id": "b303f8cb",
   "metadata": {},
   "outputs": [],
   "source": [
    "from functools import total_ordering"
   ]
  },
  {
   "cell_type": "code",
   "execution_count": 2,
   "id": "23bf92c3",
   "metadata": {},
   "outputs": [
    {
     "name": "stdout",
     "output_type": "stream",
     "text": [
      "['__annotations__', '__call__', '__class__', '__closure__', '__code__', '__defaults__', '__delattr__', '__dict__', '__dir__', '__doc__', '__eq__', '__format__', '__ge__', '__get__', '__getattribute__', '__globals__', '__gt__', '__hash__', '__init__', '__init_subclass__', '__kwdefaults__', '__le__', '__lt__', '__module__', '__name__', '__ne__', '__new__', '__qualname__', '__reduce__', '__reduce_ex__', '__repr__', '__setattr__', '__sizeof__', '__str__', '__subclasshook__']\n"
     ]
    }
   ],
   "source": [
    "print(dir(total_ordering))"
   ]
  },
  {
   "cell_type": "code",
   "execution_count": 3,
   "id": "76256ba5",
   "metadata": {},
   "outputs": [
    {
     "name": "stdout",
     "output_type": "stream",
     "text": [
      "Help on function total_ordering in module functools:\n",
      "\n",
      "total_ordering(cls)\n",
      "    Class decorator that fills in missing ordering methods\n",
      "\n"
     ]
    }
   ],
   "source": [
    "help(total_ordering)"
   ]
  },
  {
   "cell_type": "code",
   "execution_count": 11,
   "id": "91fc1acf",
   "metadata": {},
   "outputs": [],
   "source": [
    "@total_ordering\n",
    "class Mod:\n",
    "    def __init__(self, value, modulus):\n",
    "        if not isinstance(modulus, int):\n",
    "            raise TypeError('Unsuported type for modulus')\n",
    "        if not isinstance(value, int):\n",
    "            raise TypeError('Unsupported type for value')\n",
    "        if modulus <= 0:\n",
    "            raise ValueError('Modulus must be positive')\n",
    "            \n",
    "        self._modulus = modulus\n",
    "        self._value = value % modulus\n",
    "        \n",
    "    @property\n",
    "    def modulus(self):\n",
    "        return self._modulus\n",
    "    \n",
    "    @modulus.setter\n",
    "    def modulus(self, modulus):\n",
    "        self._modulus = modulus\n",
    "    \n",
    "    @property\n",
    "    def value(self):\n",
    "        return self._value\n",
    "    \n",
    "    @value.setter\n",
    "    def value(self, value):\n",
    "        self._value = value\n",
    "        \n",
    "    def __repr__(self):\n",
    "        return f\"Mod({self.value}, {self.modulus})\"\n",
    "    \n",
    "    def __int__(self):\n",
    "        return self.value\n",
    "    \n",
    "    def __eq__(self, other):\n",
    "        if isinstance(other, Mod):\n",
    "            if self.modulus != other.modulus:\n",
    "                return NotImplemented\n",
    "            else:\n",
    "                return self.value == other.value\n",
    "        elif isinstance(other, int):\n",
    "            return other % self.modulus == self.value\n",
    "        else:\n",
    "            return NotImplemented\n",
    "        \n",
    "    def __hash__(self):\n",
    "        return hash((self.value, self.modulus))\n",
    "    \n",
    "    def __neg__(self):\n",
    "        return Mod(-self.value, self.modulus)\n",
    "    \n",
    "    def __add__(self, other):\n",
    "        if isinstance(other, Mod) and self.modulus == other.modulus:\n",
    "            return Mod(self.value + other.value, self.modulus)\n",
    "        if isinstance(other, int):\n",
    "            return Mod(self.value + other, self.modulus)\n",
    "        return NotImplemented\n",
    "    \n",
    "    def __sub__(self, other):\n",
    "        if isinstance(other, Mod) and self.modulus == other.modulus:\n",
    "            return Mod(self.value - other.value, self.modulus)\n",
    "        if isinstance(other, int):\n",
    "            return Mod(self.value - other, self.modulus)\n",
    "        return NotImplemented\n",
    "    \n",
    "    def __mul__(self, other):\n",
    "        if isinstance(other, Mod) and self.modulus == other.modulus:\n",
    "            return Mod(self.value * other.value, self.modulus)\n",
    "        if isinstance(other, int):\n",
    "            return Mod(self.value * (other % self.modulus), self.modulus)\n",
    "        return NotImplemented\n",
    "    \n",
    "    def __pow__(self, other):\n",
    "        if isinstance(other, Mod) and self.modulus == other.modulus:\n",
    "            return Mod(self.value ** other.value, self.modulus)\n",
    "        if isinstance(other, int):\n",
    "            return Mod(self.value ** (other % self.modulus), self.modulus)\n",
    "        return NotImplemented\n",
    "    \n",
    "    def __iad__(self, other):\n",
    "        if isinstance(other, Mod) and self.modulus == other.modulus:\n",
    "            self.value =  (self.value + other.value) % self.modulus\n",
    "            return self\n",
    "        if isinstance(other, int):\n",
    "            self.value = (self.value + other) % self.modulus\n",
    "            return self\n",
    "        return NotImplemented\n",
    "    \n",
    "    def __isub__(self, other):\n",
    "        if isinstance(other, Mod) and self.modulus == other.modulus:\n",
    "            self.value =  (self.value - other.value) % self.modulus\n",
    "            return self\n",
    "        if isinstance(other, int):\n",
    "            self.value = (self.value - other) % self.modulus\n",
    "            return self\n",
    "        return NotImplemented\n",
    "    \n",
    "    def __imul__(self, other):\n",
    "        if isinstance(other, Mod) and self.modulus == other.modulus:\n",
    "            self.value =  (self.value * other.value) % self.modulus\n",
    "            return self\n",
    "        if isinstance(other, int):\n",
    "            self.value = (self.value * other) % self.modulus\n",
    "            return self\n",
    "        return NotImplemented\n",
    "    \n",
    "    def __ipow__(self, other):\n",
    "        if isinstance(other, Mod) and self.modulus == other.modulus:\n",
    "            self.value =  (self.value ** other.value) % self.modulus\n",
    "            return self\n",
    "        if isinstance(other, int):\n",
    "            self.value = (self.value ** (other % self.modulus)) % self.modulus\n",
    "            return self\n",
    "        return NotImplemented\n",
    "    \n",
    "    def __lt__(self, other):\n",
    "        if isinstance(other, Mod) and self.modulus == other.modulus:\n",
    "            return self.value < other.value\n",
    "        if isinstance(other, int):\n",
    "            return self.value < other % self.modulus\n",
    "        return NotImplemented    "
   ]
  },
  {
   "cell_type": "code",
   "execution_count": 12,
   "id": "5b8d6ae3",
   "metadata": {},
   "outputs": [
    {
     "data": {
      "text/plain": [
       "True"
      ]
     },
     "execution_count": 12,
     "metadata": {},
     "output_type": "execute_result"
    }
   ],
   "source": [
    "Mod(3, 12) == Mod(15, 12)"
   ]
  },
  {
   "cell_type": "code",
   "execution_count": 14,
   "id": "e63b4dbb",
   "metadata": {},
   "outputs": [
    {
     "data": {
      "text/plain": [
       "False"
      ]
     },
     "execution_count": 14,
     "metadata": {},
     "output_type": "execute_result"
    }
   ],
   "source": [
    "Mod(18, 12) == Mod(7, 12)"
   ]
  }
 ],
 "metadata": {
  "kernelspec": {
   "display_name": "Python 3 (ipykernel)",
   "language": "python",
   "name": "python3"
  },
  "language_info": {
   "codemirror_mode": {
    "name": "ipython",
    "version": 3
   },
   "file_extension": ".py",
   "mimetype": "text/x-python",
   "name": "python",
   "nbconvert_exporter": "python",
   "pygments_lexer": "ipython3",
   "version": "3.9.13"
  }
 },
 "nbformat": 4,
 "nbformat_minor": 5
}
