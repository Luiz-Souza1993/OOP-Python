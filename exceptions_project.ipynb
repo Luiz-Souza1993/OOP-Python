{
 "cells": [
  {
   "cell_type": "markdown",
   "id": "deb6e854",
   "metadata": {},
   "source": [
    "### Exceptions Project"
   ]
  },
  {
   "cell_type": "code",
   "execution_count": 1,
   "id": "88970f86",
   "metadata": {},
   "outputs": [],
   "source": [
    "from datetime import datetime"
   ]
  },
  {
   "cell_type": "code",
   "execution_count": 2,
   "id": "1ce4e53f",
   "metadata": {},
   "outputs": [],
   "source": [
    "class WidgetException(Exception):\n",
    "    message = 'Generic Widget exception'\n",
    "    \n",
    "    def __init__(self, *args, customer_message = None):\n",
    "        super().__init__(args)\n",
    "        if args:\n",
    "            self.message = args[0]\n",
    "        self.customer_message = customer_message if customer_message is not None else self.message\n",
    "        \n",
    "    def log_exception(self):\n",
    "        exception = {\n",
    "            \"type\": type(self).__name__,\n",
    "            \"message\": self.message,\n",
    "            \"args\": self.args[1:]\n",
    "        }\n",
    "        print(f'Exception: {datetime.utcnow().isoformat()}: {exception}')"
   ]
  },
  {
   "cell_type": "code",
   "execution_count": 3,
   "id": "007795f2",
   "metadata": {},
   "outputs": [],
   "source": [
    "ex1 = WidgetException('some custom message', 10, 100)\n",
    "ex2 = WidgetException(customer_message ='A custom user message')"
   ]
  },
  {
   "cell_type": "code",
   "execution_count": 4,
   "id": "e2275b7b",
   "metadata": {},
   "outputs": [
    {
     "data": {
      "text/plain": [
       "((('some custom message', 10, 100),), ((),))"
      ]
     },
     "execution_count": 4,
     "metadata": {},
     "output_type": "execute_result"
    }
   ],
   "source": [
    "ex1.args, ex2.args"
   ]
  },
  {
   "cell_type": "code",
   "execution_count": 5,
   "id": "b179419a",
   "metadata": {},
   "outputs": [
    {
     "name": "stdout",
     "output_type": "stream",
     "text": [
      "Exception: 2023-03-19T14:50:13.044323: {'type': 'WidgetException', 'message': 'some custom message', 'args': ()}\n"
     ]
    }
   ],
   "source": [
    "ex1.log_exception()"
   ]
  },
  {
   "cell_type": "code",
   "execution_count": 6,
   "id": "2d883d27",
   "metadata": {},
   "outputs": [
    {
     "name": "stdout",
     "output_type": "stream",
     "text": [
      "Exception: 2023-03-19T14:50:13.054024: {'type': 'WidgetException', 'message': 'Generic Widget exception', 'args': ()}\n"
     ]
    }
   ],
   "source": [
    "ex2.log_exception()"
   ]
  },
  {
   "cell_type": "code",
   "execution_count": 7,
   "id": "70d7b889",
   "metadata": {},
   "outputs": [],
   "source": [
    "class SupplierException(WidgetException):\n",
    "    messsage = 'Supplier Exception'\n",
    "\n",
    "class NotManufacturedException(SupplierException):\n",
    "    messsage = 'Widget is no longer manfuactured by supplier'\n",
    "    \n",
    "class ProductionDelayedException(SupplierException):\n",
    "    messsage = 'Widget is no longer manfuactured by manufacturer'\n",
    "    \n",
    "class ShippingDelayedException(SupplierException):\n",
    "    messsage = 'Widget shipping has been delayed by supplier'\n",
    "    \n",
    "class CheckoutException(WidgetException):\n",
    "    messsage = 'Checkout Exception'\n",
    "    \n",
    "class InventoryException(CheckoutException):\n",
    "    messsage = 'Checkout inventory Exception'\n",
    "    \n",
    "class OutofStockException(InventoryException):\n",
    "    messsage = 'Inventory out of stock'\n",
    "    \n",
    "class PricingException(CheckoutException):\n",
    "    messsage = 'Checkout princing Exception'\n",
    "    \n",
    "class InvalidCouponCodeException(PricingException):\n",
    "    messsage = 'Invalid Checkout coupon code'\n",
    "\n",
    "class CannotStackCouponException(PricingException):\n",
    "    messsage = 'Cannot stack Checkout coupon code'    "
   ]
  },
  {
   "cell_type": "code",
   "execution_count": 8,
   "id": "81e39c1a",
   "metadata": {
    "scrolled": true
   },
   "outputs": [
    {
     "name": "stdout",
     "output_type": "stream",
     "text": [
      "Exception: 2023-03-19T14:50:13.071931: {'type': 'CannotStackCouponException', 'message': 'Generic Widget exception', 'args': ()}\n"
     ]
    }
   ],
   "source": [
    "try:\n",
    "    raise CannotStackCouponException()\n",
    "except CannotStackCouponException as ex:\n",
    "    ex.log_exception()"
   ]
  }
 ],
 "metadata": {
  "kernelspec": {
   "display_name": "Python 3 (ipykernel)",
   "language": "python",
   "name": "python3"
  },
  "language_info": {
   "codemirror_mode": {
    "name": "ipython",
    "version": 3
   },
   "file_extension": ".py",
   "mimetype": "text/x-python",
   "name": "python",
   "nbconvert_exporter": "python",
   "pygments_lexer": "ipython3",
   "version": "3.11.2"
  }
 },
 "nbformat": 4,
 "nbformat_minor": 5
}
