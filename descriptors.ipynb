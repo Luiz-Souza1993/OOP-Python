{
 "cells": [
  {
   "cell_type": "markdown",
   "id": "9bb9674d",
   "metadata": {},
   "source": [
    "#### Descriptors"
   ]
  },
  {
   "cell_type": "code",
   "execution_count": 1,
   "id": "1c496cb8",
   "metadata": {},
   "outputs": [],
   "source": [
    "from datetime import datetime"
   ]
  },
  {
   "cell_type": "code",
   "execution_count": null,
   "id": "479f5a12",
   "metadata": {},
   "outputs": [],
   "source": [
    "class TimeUTC:\n",
    "    def __get__(self, instance, owner_class):\n",
    "        return datetime.utcnow().isoformat()"
   ]
  },
  {
   "cell_type": "code",
   "execution_count": null,
   "id": "22c323ec",
   "metadata": {},
   "outputs": [],
   "source": [
    "class Logger:\n",
    "    current_time = TimeUTC()"
   ]
  },
  {
   "cell_type": "code",
   "execution_count": null,
   "id": "db2f1c79",
   "metadata": {},
   "outputs": [],
   "source": [
    "Logger.__dict__"
   ]
  },
  {
   "cell_type": "code",
   "execution_count": null,
   "id": "8ac81e31",
   "metadata": {},
   "outputs": [],
   "source": [
    "Logger.current_time"
   ]
  },
  {
   "cell_type": "code",
   "execution_count": null,
   "id": "f5d02f32",
   "metadata": {},
   "outputs": [],
   "source": [
    "l = Logger()\n",
    "l.current_time"
   ]
  },
  {
   "cell_type": "code",
   "execution_count": null,
   "id": "17daa37a",
   "metadata": {},
   "outputs": [],
   "source": [
    "from random import choice, seed\n",
    "\n",
    "class Deck:\n",
    "    @property\n",
    "    def suit(self):\n",
    "        return choice(('Spade', 'Heart', 'Diamond', 'Club'))\n",
    "    \n",
    "    @property\n",
    "    def card(self):\n",
    "        return choice(tuple('23456789JQKA') + ('10',))"
   ]
  },
  {
   "cell_type": "code",
   "execution_count": null,
   "id": "17e29c0f",
   "metadata": {},
   "outputs": [],
   "source": [
    "d = Deck()"
   ]
  },
  {
   "cell_type": "code",
   "execution_count": null,
   "id": "5bc9ae54",
   "metadata": {},
   "outputs": [],
   "source": [
    "seed(0)\n",
    "\n",
    "[d.card + ' - '+ d.suit for _ in range(10)]"
   ]
  },
  {
   "cell_type": "code",
   "execution_count": null,
   "id": "d4aa4373",
   "metadata": {},
   "outputs": [],
   "source": [
    "class Choice:\n",
    "    def __init__(self, *choices):\n",
    "        self.choices = choices\n",
    "        \n",
    "    def __get__(self, instance, owner_class):\n",
    "        return choice(self.choices)"
   ]
  },
  {
   "cell_type": "code",
   "execution_count": null,
   "id": "5ed164c9",
   "metadata": {},
   "outputs": [],
   "source": [
    "class Deck:\n",
    "    suit = Choice(('Spade', 'Heart', 'Diamond', 'Club'))\n",
    "    card = Choice(*'23456789JQKA','10')"
   ]
  },
  {
   "cell_type": "code",
   "execution_count": null,
   "id": "784620a2",
   "metadata": {},
   "outputs": [],
   "source": [
    "d = Deck()"
   ]
  },
  {
   "cell_type": "code",
   "execution_count": null,
   "id": "2c686adb",
   "metadata": {},
   "outputs": [],
   "source": [
    "seed(0)\n",
    "[(d.card, d.suit) for _ in range(10)]"
   ]
  },
  {
   "cell_type": "markdown",
   "id": "7b165f47",
   "metadata": {},
   "source": [
    "#### Getters and Setters"
   ]
  },
  {
   "cell_type": "code",
   "execution_count": null,
   "id": "1c6a91c4",
   "metadata": {},
   "outputs": [],
   "source": [
    "from datetime import datetime"
   ]
  },
  {
   "cell_type": "code",
   "execution_count": null,
   "id": "43e6ee68",
   "metadata": {},
   "outputs": [],
   "source": [
    "class TimeUTC:\n",
    "    def __get__(self, instance, owner_class):\n",
    "        print(f'__get__ called, self={self}, instance={instance}, owner_class={owner_class}')\n",
    "        return datetime.utcnow().isoformat()"
   ]
  },
  {
   "cell_type": "code",
   "execution_count": null,
   "id": "8a3a5468",
   "metadata": {},
   "outputs": [],
   "source": [
    "class Logger1:\n",
    "    current_time = TimeUTC()\n",
    "    \n",
    "class Logger2:\n",
    "    current_time = TimeUTC()"
   ]
  },
  {
   "cell_type": "code",
   "execution_count": null,
   "id": "baccef07",
   "metadata": {},
   "outputs": [],
   "source": [
    "Logger1.current_time"
   ]
  },
  {
   "cell_type": "code",
   "execution_count": null,
   "id": "d0bcb905",
   "metadata": {},
   "outputs": [],
   "source": [
    "Logger2.current_time"
   ]
  },
  {
   "cell_type": "code",
   "execution_count": null,
   "id": "5cdc4f10",
   "metadata": {},
   "outputs": [],
   "source": [
    "l1 = Logger1()"
   ]
  },
  {
   "cell_type": "code",
   "execution_count": null,
   "id": "1502b47e",
   "metadata": {},
   "outputs": [],
   "source": [
    "l1.current_time"
   ]
  },
  {
   "cell_type": "code",
   "execution_count": null,
   "id": "a1287f60",
   "metadata": {},
   "outputs": [],
   "source": [
    "class Logger:\n",
    "    @property\n",
    "    def current_time(self):\n",
    "        return datetime.utcnow().isoformat()"
   ]
  },
  {
   "cell_type": "code",
   "execution_count": null,
   "id": "be8b12c1",
   "metadata": {},
   "outputs": [],
   "source": [
    "Logger.current_time"
   ]
  },
  {
   "cell_type": "code",
   "execution_count": null,
   "id": "520b96bb",
   "metadata": {},
   "outputs": [],
   "source": [
    "l = Logger()"
   ]
  },
  {
   "cell_type": "code",
   "execution_count": null,
   "id": "89b92ab3",
   "metadata": {},
   "outputs": [],
   "source": [
    "l.current_time"
   ]
  },
  {
   "cell_type": "code",
   "execution_count": null,
   "id": "9c8a072a",
   "metadata": {},
   "outputs": [],
   "source": [
    "class IntegerValue:\n",
    "    def __set__(self, instance, value):\n",
    "        print(f'__set__ called, {instance}, {value}')\n",
    "     \n",
    "    def __get__(self, instance, owner_class):\n",
    "        if instance is None:\n",
    "            print('__get__ called from class')\n",
    "        else:\n",
    "            print(f'__get__ called, {instance}, {owner_class}')"
   ]
  },
  {
   "cell_type": "code",
   "execution_count": null,
   "id": "c10f5ce8",
   "metadata": {},
   "outputs": [],
   "source": [
    "class Point2D:\n",
    "    x = IntegerValue()\n",
    "    y = IntegerValue()"
   ]
  },
  {
   "cell_type": "code",
   "execution_count": null,
   "id": "fce76b72",
   "metadata": {},
   "outputs": [],
   "source": [
    "Point2D.x"
   ]
  },
  {
   "cell_type": "code",
   "execution_count": null,
   "id": "ac47a373",
   "metadata": {},
   "outputs": [],
   "source": [
    "Point2D.y"
   ]
  },
  {
   "cell_type": "code",
   "execution_count": null,
   "id": "4f89992c",
   "metadata": {},
   "outputs": [],
   "source": [
    "p = Point2D()"
   ]
  },
  {
   "cell_type": "code",
   "execution_count": null,
   "id": "0912151a",
   "metadata": {},
   "outputs": [],
   "source": [
    "p.x"
   ]
  },
  {
   "cell_type": "code",
   "execution_count": null,
   "id": "9a35b25a",
   "metadata": {},
   "outputs": [],
   "source": [
    "p.x = 100"
   ]
  },
  {
   "cell_type": "markdown",
   "id": "5a2d0289",
   "metadata": {},
   "source": [
    "##### Using as Instance Properties"
   ]
  },
  {
   "cell_type": "code",
   "execution_count": null,
   "id": "12bba7c3",
   "metadata": {},
   "outputs": [],
   "source": [
    "class IntegerValue:\n",
    "    def __set__(self, instance, value):\n",
    "        instance.stored_value = int(value)\n",
    "        \n",
    "    def __get__(self, instance, owner_class):\n",
    "        if instance is None:\n",
    "            return self\n",
    "        return getattr(instance, 'stored_value', None)"
   ]
  },
  {
   "cell_type": "code",
   "execution_count": null,
   "id": "a8a2ebbb",
   "metadata": {},
   "outputs": [],
   "source": [
    "class Point1D:\n",
    "    x = IntegerValue()"
   ]
  },
  {
   "cell_type": "code",
   "execution_count": null,
   "id": "8616ea40",
   "metadata": {},
   "outputs": [],
   "source": [
    "p1, p2 = Point1D(), Point1D()"
   ]
  },
  {
   "cell_type": "code",
   "execution_count": null,
   "id": "38a9294d",
   "metadata": {},
   "outputs": [],
   "source": [
    "p1.x = 10.2\n",
    "p2.x = 20.2"
   ]
  },
  {
   "cell_type": "code",
   "execution_count": null,
   "id": "56872b8f",
   "metadata": {},
   "outputs": [],
   "source": [
    "p1.x, p2.x"
   ]
  },
  {
   "cell_type": "code",
   "execution_count": null,
   "id": "42e04dfa",
   "metadata": {},
   "outputs": [],
   "source": [
    "p1.__dict__, p2.__dict__"
   ]
  },
  {
   "cell_type": "code",
   "execution_count": null,
   "id": "ac0e385f",
   "metadata": {},
   "outputs": [],
   "source": [
    "class Point2D:\n",
    "    x = IntegerValue()\n",
    "    y = IntegerValue()"
   ]
  },
  {
   "cell_type": "code",
   "execution_count": null,
   "id": "4560df0a",
   "metadata": {},
   "outputs": [],
   "source": [
    "p = Point2D()"
   ]
  },
  {
   "cell_type": "code",
   "execution_count": null,
   "id": "f71d0165",
   "metadata": {},
   "outputs": [],
   "source": [
    "p.x = 10.2\n",
    "p.y = 15.2"
   ]
  },
  {
   "cell_type": "code",
   "execution_count": null,
   "id": "8e9cf866",
   "metadata": {},
   "outputs": [],
   "source": [
    "p.__dict__, p.x, p.y"
   ]
  },
  {
   "cell_type": "code",
   "execution_count": null,
   "id": "f453cbb0",
   "metadata": {},
   "outputs": [],
   "source": [
    "class IntegerValue:\n",
    "    def __init__(self, name):\n",
    "        self.storage_name = '-' + name\n",
    "    \n",
    "    def __set__(self, instance, value):\n",
    "        setattr(instance, self.storage_name, int(value))\n",
    "        \n",
    "    def __get__(self, instance, owner_class):\n",
    "        if instance is None:\n",
    "            return self\n",
    "        return getattr(instance, self.storage_name , None)"
   ]
  },
  {
   "cell_type": "code",
   "execution_count": null,
   "id": "d2e02ccd",
   "metadata": {},
   "outputs": [],
   "source": [
    "class Point2D:\n",
    "    x = IntegerValue('x')\n",
    "    y = IntegerValue('y')"
   ]
  },
  {
   "cell_type": "code",
   "execution_count": null,
   "id": "25a21174",
   "metadata": {},
   "outputs": [],
   "source": [
    "p = Point2D()"
   ]
  },
  {
   "cell_type": "code",
   "execution_count": null,
   "id": "65b08b4e",
   "metadata": {},
   "outputs": [],
   "source": [
    "p.x = 10.2\n",
    "p.y = 15.2"
   ]
  },
  {
   "cell_type": "code",
   "execution_count": null,
   "id": "1cb97535",
   "metadata": {},
   "outputs": [],
   "source": [
    "p.__dict__, p.x, p.y"
   ]
  },
  {
   "cell_type": "code",
   "execution_count": null,
   "id": "49e1e2e1",
   "metadata": {},
   "outputs": [],
   "source": [
    "class IntegerValue:\n",
    "    def __init__(self):\n",
    "        self.values = {}\n",
    "    \n",
    "    def __set__(self, instance, value):\n",
    "        self.values[instance] = int(value)\n",
    "            \n",
    "    def __get__(self, instance, owner_class):\n",
    "        if instance is None:\n",
    "            return self\n",
    "        return self.values.get(instance)"
   ]
  },
  {
   "cell_type": "code",
   "execution_count": null,
   "id": "4a018d43",
   "metadata": {},
   "outputs": [],
   "source": [
    "class Point2D:\n",
    "    x = IntegerValue()\n",
    "    y = IntegerValue()"
   ]
  },
  {
   "cell_type": "code",
   "execution_count": null,
   "id": "0cc9dc27",
   "metadata": {},
   "outputs": [],
   "source": [
    "p = Point2D()"
   ]
  },
  {
   "cell_type": "code",
   "execution_count": null,
   "id": "587b5d6b",
   "metadata": {},
   "outputs": [],
   "source": [
    "p.x = 10.2\n",
    "p.y = 15.2"
   ]
  },
  {
   "cell_type": "code",
   "execution_count": null,
   "id": "03547f9e",
   "metadata": {},
   "outputs": [],
   "source": [
    "Point2D.x.values, Point2D.y.values, p.x, p.y"
   ]
  },
  {
   "cell_type": "markdown",
   "id": "9c28c484",
   "metadata": {},
   "source": [
    "##### Strong and Weak References"
   ]
  },
  {
   "cell_type": "code",
   "execution_count": null,
   "id": "d14fd4cd",
   "metadata": {},
   "outputs": [],
   "source": [
    "import ctypes\n",
    "\n",
    "def ref_count(address):\n",
    "    return ctypes.c_long.from_address(address).value"
   ]
  },
  {
   "cell_type": "code",
   "execution_count": null,
   "id": "a92c6a0b",
   "metadata": {},
   "outputs": [],
   "source": [
    "class Person:\n",
    "    def __init__(self, name):\n",
    "        self.name = name\n",
    "        \n",
    "    def __rerp__(self):\n",
    "        return f'Person(name = {self.name})'"
   ]
  },
  {
   "cell_type": "code",
   "execution_count": null,
   "id": "76a59c95",
   "metadata": {},
   "outputs": [],
   "source": [
    "p1 = Person('Guido')\n",
    "p2 = p1"
   ]
  },
  {
   "cell_type": "code",
   "execution_count": null,
   "id": "9a88cd8b",
   "metadata": {},
   "outputs": [],
   "source": [
    "p1 is p2, id(p1), id(p2)"
   ]
  },
  {
   "cell_type": "code",
   "execution_count": null,
   "id": "35579709",
   "metadata": {},
   "outputs": [],
   "source": [
    "import weakref"
   ]
  },
  {
   "cell_type": "code",
   "execution_count": null,
   "id": "f373bc98",
   "metadata": {},
   "outputs": [],
   "source": [
    "p1 = Person('Guido')\n",
    "p1_id = id(p1)"
   ]
  },
  {
   "cell_type": "code",
   "execution_count": null,
   "id": "3c1d4288",
   "metadata": {},
   "outputs": [],
   "source": [
    "ref_count(p1_id)"
   ]
  },
  {
   "cell_type": "code",
   "execution_count": null,
   "id": "1bd644dc",
   "metadata": {},
   "outputs": [],
   "source": [
    "p2 = p1\n",
    "ref_count(p1_id)"
   ]
  },
  {
   "cell_type": "code",
   "execution_count": null,
   "id": "b52a4219",
   "metadata": {},
   "outputs": [],
   "source": [
    "weak1 = weakref.ref(p1)"
   ]
  },
  {
   "cell_type": "code",
   "execution_count": null,
   "id": "976044a9",
   "metadata": {},
   "outputs": [],
   "source": [
    "ref_count(p1_id)"
   ]
  },
  {
   "cell_type": "code",
   "execution_count": null,
   "id": "cebf3e7a",
   "metadata": {},
   "outputs": [],
   "source": [
    "weak1() is p1"
   ]
  },
  {
   "cell_type": "code",
   "execution_count": null,
   "id": "f5baf8a0",
   "metadata": {},
   "outputs": [],
   "source": [
    "print(weak1())"
   ]
  },
  {
   "cell_type": "code",
   "execution_count": null,
   "id": "660f604e",
   "metadata": {},
   "outputs": [],
   "source": [
    "ref_count(p1_id)"
   ]
  },
  {
   "cell_type": "code",
   "execution_count": null,
   "id": "a0350c94",
   "metadata": {},
   "outputs": [],
   "source": [
    "print(weak1())"
   ]
  },
  {
   "cell_type": "markdown",
   "id": "b83c6074",
   "metadata": {},
   "source": [
    "##### Property Lookup Resolution"
   ]
  },
  {
   "cell_type": "code",
   "execution_count": null,
   "id": "fd9aceb2",
   "metadata": {},
   "outputs": [],
   "source": [
    "class IntegerValue:\n",
    "    def __set__(self, instance, value):\n",
    "        print('__set__ called......')\n",
    "    \n",
    "    def __get__(self, instance, owner_class):\n",
    "        print('__get__ called.....')"
   ]
  },
  {
   "cell_type": "code",
   "execution_count": null,
   "id": "c3268579",
   "metadata": {},
   "outputs": [],
   "source": [
    "class Point:\n",
    "    x = IntegerValue()"
   ]
  },
  {
   "cell_type": "code",
   "execution_count": null,
   "id": "467af942",
   "metadata": {},
   "outputs": [],
   "source": [
    "p = Point()"
   ]
  },
  {
   "cell_type": "code",
   "execution_count": null,
   "id": "ccf4ce0a",
   "metadata": {},
   "outputs": [],
   "source": [
    "p.x = 100"
   ]
  },
  {
   "cell_type": "code",
   "execution_count": null,
   "id": "2bc8a06e",
   "metadata": {},
   "outputs": [],
   "source": [
    "p.x"
   ]
  },
  {
   "cell_type": "code",
   "execution_count": null,
   "id": "18470167",
   "metadata": {},
   "outputs": [],
   "source": [
    "p.__dict__['x'] = 'hello'"
   ]
  },
  {
   "cell_type": "code",
   "execution_count": null,
   "id": "a0deb549",
   "metadata": {},
   "outputs": [],
   "source": [
    "p.__dict__"
   ]
  },
  {
   "cell_type": "code",
   "execution_count": null,
   "id": "a5b072ba",
   "metadata": {},
   "outputs": [],
   "source": [
    "p.x"
   ]
  },
  {
   "cell_type": "code",
   "execution_count": null,
   "id": "84034785",
   "metadata": {},
   "outputs": [],
   "source": [
    "class TimeUTC:\n",
    "    def __get__(self, instance, owner_class):\n",
    "        print('__get__ called....')"
   ]
  },
  {
   "cell_type": "code",
   "execution_count": null,
   "id": "60db0b8e",
   "metadata": {},
   "outputs": [],
   "source": [
    "class Logger:\n",
    "    current_time = TimeUTC()"
   ]
  },
  {
   "cell_type": "code",
   "execution_count": null,
   "id": "5f0fbe1e",
   "metadata": {},
   "outputs": [],
   "source": [
    "l = Logger()"
   ]
  },
  {
   "cell_type": "code",
   "execution_count": null,
   "id": "bb5953a2",
   "metadata": {},
   "outputs": [],
   "source": [
    "l.current_time"
   ]
  },
  {
   "cell_type": "code",
   "execution_count": null,
   "id": "7fa4d089",
   "metadata": {},
   "outputs": [],
   "source": [
    "l.__dict__"
   ]
  },
  {
   "cell_type": "code",
   "execution_count": null,
   "id": "f8a64dab",
   "metadata": {},
   "outputs": [],
   "source": [
    "l.__dict__['current_time'] = 'hello'"
   ]
  },
  {
   "cell_type": "code",
   "execution_count": null,
   "id": "ac480e1f",
   "metadata": {},
   "outputs": [],
   "source": [
    "l.__dict__"
   ]
  },
  {
   "cell_type": "code",
   "execution_count": null,
   "id": "d5b926a8",
   "metadata": {},
   "outputs": [],
   "source": [
    "l.current_time"
   ]
  },
  {
   "cell_type": "code",
   "execution_count": null,
   "id": "e7ad574d",
   "metadata": {},
   "outputs": [],
   "source": [
    "del l.__dict__['current_time']"
   ]
  },
  {
   "cell_type": "code",
   "execution_count": null,
   "id": "b9c89c59",
   "metadata": {},
   "outputs": [],
   "source": [
    "l.__dict__"
   ]
  },
  {
   "cell_type": "code",
   "execution_count": null,
   "id": "1980042f",
   "metadata": {},
   "outputs": [],
   "source": [
    "l.current_time"
   ]
  },
  {
   "cell_type": "code",
   "execution_count": null,
   "id": "87b5b835",
   "metadata": {},
   "outputs": [],
   "source": [
    "class ValidString:\n",
    "    def __init__(self, min_lenght = None):\n",
    "        self.min_lenght = min_lenght\n",
    "        \n",
    "    def __set_name__(self, owner_class, property_name):\n",
    "        self.property_name = property_name\n",
    "        \n",
    "    def __set__(self, instance, value):\n",
    "        if not isinstance(value, str):\n",
    "            raise ValueError(f'{self.property_name} must be a string.')\n",
    "        if self.min_lenght is not None and len(value) < self.min_lenght:\n",
    "            raise ValueError(f'{self.property_name} not long enough')\n",
    "        instance.__dict__[self.property_name] = value\n",
    "        \n",
    "    def __get__(self, instance, owner_class):\n",
    "        if instance is None:\n",
    "            return self\n",
    "        print(f'calling __get__ for {self.property_name}')\n",
    "        return instance.__dic__.get(self.property_name, None)"
   ]
  },
  {
   "cell_type": "code",
   "execution_count": null,
   "id": "211a9b5f",
   "metadata": {},
   "outputs": [],
   "source": [
    "class Person:\n",
    "    first_name = ValidString(1)\n",
    "    last_name = ValidString(2)"
   ]
  },
  {
   "cell_type": "code",
   "execution_count": null,
   "id": "707b2ad7",
   "metadata": {},
   "outputs": [],
   "source": [
    "p = Person()"
   ]
  },
  {
   "cell_type": "code",
   "execution_count": null,
   "id": "481b43d5",
   "metadata": {},
   "outputs": [],
   "source": [
    "p.first_name = 'Luiz'"
   ]
  },
  {
   "cell_type": "code",
   "execution_count": null,
   "id": "36e0cb9b",
   "metadata": {},
   "outputs": [],
   "source": [
    "p.last_name = 'Souza'"
   ]
  },
  {
   "cell_type": "code",
   "execution_count": null,
   "id": "796044d0",
   "metadata": {},
   "outputs": [],
   "source": [
    "p.__dict__"
   ]
  },
  {
   "cell_type": "markdown",
   "id": "6d629169",
   "metadata": {},
   "source": [
    "##### Back to Instance Properties"
   ]
  },
  {
   "cell_type": "code",
   "execution_count": null,
   "id": "e4b857fe",
   "metadata": {},
   "outputs": [],
   "source": [
    "class IntegerValue:\n",
    "    def __init__(self):\n",
    "        self.values = {}\n",
    "        \n",
    "    def __set__(self, instance, value):\n",
    "        self.values[instance] = int(value)\n",
    "        \n",
    "    def __get__(self, instance, owner_class):\n",
    "        if instance is None:\n",
    "            return self\n",
    "        else:\n",
    "            return self.values.get(instance)"
   ]
  },
  {
   "cell_type": "code",
   "execution_count": null,
   "id": "0961a439",
   "metadata": {},
   "outputs": [],
   "source": [
    "import weakref"
   ]
  },
  {
   "cell_type": "code",
   "execution_count": null,
   "id": "9a40ed9f",
   "metadata": {},
   "outputs": [],
   "source": [
    "class IntegerValue:\n",
    "    def __init__(self):\n",
    "        self.values = weakref.WeakKeyDictionary()\n",
    "        \n",
    "    def __set__(self, instance, value):\n",
    "        self.values[instance] = int(value)\n",
    "        \n",
    "    def __get__(self, instance, owner_class):\n",
    "        if instance is None:\n",
    "            return self\n",
    "        else:\n",
    "            return self.values.get(instance)"
   ]
  },
  {
   "cell_type": "code",
   "execution_count": null,
   "id": "4ca80303",
   "metadata": {},
   "outputs": [],
   "source": [
    "class Point:\n",
    "    x = IntegerValue()"
   ]
  },
  {
   "cell_type": "code",
   "execution_count": null,
   "id": "22a3b2aa",
   "metadata": {},
   "outputs": [],
   "source": [
    "p = Point()"
   ]
  },
  {
   "cell_type": "code",
   "execution_count": null,
   "id": "7b4f9031",
   "metadata": {},
   "outputs": [],
   "source": [
    "print(hex(id(p)))"
   ]
  },
  {
   "cell_type": "code",
   "execution_count": null,
   "id": "ed9eca3f",
   "metadata": {},
   "outputs": [],
   "source": [
    "p.x = 100.1"
   ]
  },
  {
   "cell_type": "code",
   "execution_count": null,
   "id": "b5a847dc",
   "metadata": {},
   "outputs": [],
   "source": [
    "p.x"
   ]
  },
  {
   "cell_type": "code",
   "execution_count": null,
   "id": "ea27cfb2",
   "metadata": {},
   "outputs": [],
   "source": [
    "Point.x.values.keyrefs()"
   ]
  },
  {
   "cell_type": "code",
   "execution_count": null,
   "id": "9ef3dcf6",
   "metadata": {},
   "outputs": [],
   "source": [
    "del p"
   ]
  },
  {
   "cell_type": "code",
   "execution_count": null,
   "id": "2642498d",
   "metadata": {},
   "outputs": [],
   "source": [
    "Point.x.values.keyrefs()"
   ]
  },
  {
   "cell_type": "code",
   "execution_count": null,
   "id": "6846060d",
   "metadata": {},
   "outputs": [],
   "source": [
    "class IntegerValue:\n",
    "    def __init__(self):\n",
    "        self.values = {}\n",
    "        \n",
    "    def __set__(self, instance, value):\n",
    "        self.values[id(instance)] = int(value)\n",
    "        \n",
    "    def __get__(self, instance, owner_class):\n",
    "        if instance is None:\n",
    "            return self\n",
    "        else:\n",
    "            return self.values.get(id(instance))"
   ]
  },
  {
   "cell_type": "code",
   "execution_count": null,
   "id": "1e91dfd2",
   "metadata": {},
   "outputs": [],
   "source": [
    "class Point:\n",
    "    x = IntegerValue()\n",
    "    \n",
    "    def __init__(self, x):\n",
    "        self.x = x\n",
    "        \n",
    "    def __eq__(self, other):\n",
    "        return isinstance(other, Point) and self.x == other.x"
   ]
  },
  {
   "cell_type": "code",
   "execution_count": null,
   "id": "c9f57490",
   "metadata": {},
   "outputs": [],
   "source": [
    "p = Point(10.1)"
   ]
  },
  {
   "cell_type": "code",
   "execution_count": null,
   "id": "1e60c65b",
   "metadata": {},
   "outputs": [],
   "source": [
    "p.x"
   ]
  },
  {
   "cell_type": "code",
   "execution_count": null,
   "id": "c63b8135",
   "metadata": {},
   "outputs": [],
   "source": [
    "p.x = 20.2"
   ]
  },
  {
   "cell_type": "code",
   "execution_count": null,
   "id": "3a14ec77",
   "metadata": {},
   "outputs": [],
   "source": [
    "p.x"
   ]
  },
  {
   "cell_type": "markdown",
   "id": "33c38d32",
   "metadata": {},
   "source": [
    "##### The __set_name__ Method"
   ]
  },
  {
   "cell_type": "code",
   "execution_count": null,
   "id": "18a664ac",
   "metadata": {},
   "outputs": [],
   "source": [
    "class ValidString:\n",
    "    def __set_name__(self, owner_class, property_name):\n",
    "        print(f'__set_name__: owner={owner_class}, property_name={property_name}')"
   ]
  },
  {
   "cell_type": "code",
   "execution_count": null,
   "id": "f88f940e",
   "metadata": {},
   "outputs": [],
   "source": [
    "class Person:\n",
    "    name = ValidString()"
   ]
  },
  {
   "cell_type": "code",
   "execution_count": null,
   "id": "ed226f03",
   "metadata": {},
   "outputs": [],
   "source": [
    "class ValidString:\n",
    "    def __set_name__(self, owner_class, property_name):\n",
    "        print(f'__set_name__: owner={owner_class}, property_name={property_name}')\n",
    "        self.property_name = property_name\n",
    "        \n",
    "    def __get__(self, instance, owner_class):\n",
    "        if instance is None:\n",
    "            return self\n",
    "        print(f'__get__ called for property {self.property_name} of instance {instance}')"
   ]
  },
  {
   "cell_type": "code",
   "execution_count": null,
   "id": "01552e30",
   "metadata": {},
   "outputs": [],
   "source": [
    "class Person:\n",
    "    first_name = ValidString()\n",
    "    last_name = ValidString()"
   ]
  },
  {
   "cell_type": "code",
   "execution_count": null,
   "id": "3cc8e47e",
   "metadata": {},
   "outputs": [],
   "source": [
    "p = Person()"
   ]
  },
  {
   "cell_type": "code",
   "execution_count": null,
   "id": "954652c2",
   "metadata": {},
   "outputs": [],
   "source": [
    "p.first_name"
   ]
  },
  {
   "cell_type": "markdown",
   "id": "06efb2aa",
   "metadata": {},
   "source": [
    "##### Properties and Descriptors"
   ]
  },
  {
   "cell_type": "code",
   "execution_count": 1,
   "id": "57d80444",
   "metadata": {},
   "outputs": [],
   "source": [
    "from numbers import Integral"
   ]
  },
  {
   "cell_type": "code",
   "execution_count": 3,
   "id": "3d3facad",
   "metadata": {},
   "outputs": [],
   "source": [
    "class Person:\n",
    "    @property\n",
    "    def age(self):\n",
    "        return getattr(self, '_age', None)\n",
    "    \n",
    "    @age.setter\n",
    "    def age(self, value):\n",
    "        if not isinstance(value, Integral):\n",
    "            raise ValueError('age: must be an integer')\n",
    "        if value < 0:\n",
    "            raise ValueError('age: must be a non-negative integer.')\n",
    "        self._age = value"
   ]
  },
  {
   "cell_type": "code",
   "execution_count": 4,
   "id": "aede289c",
   "metadata": {},
   "outputs": [
    {
     "name": "stdout",
     "output_type": "stream",
     "text": [
      "age: must be a non-negative integer.\n"
     ]
    }
   ],
   "source": [
    "p = Person()\n",
    "\n",
    "try:\n",
    "    p.age = -10\n",
    "except ValueError as ex:\n",
    "    print(ex)"
   ]
  },
  {
   "cell_type": "code",
   "execution_count": 5,
   "id": "35aed5bd",
   "metadata": {},
   "outputs": [
    {
     "data": {
      "text/plain": [
       "{}"
      ]
     },
     "execution_count": 5,
     "metadata": {},
     "output_type": "execute_result"
    }
   ],
   "source": [
    "p.__dict__"
   ]
  },
  {
   "cell_type": "code",
   "execution_count": 6,
   "id": "0148aea2",
   "metadata": {},
   "outputs": [],
   "source": [
    "p.age = 10"
   ]
  },
  {
   "cell_type": "code",
   "execution_count": 8,
   "id": "fcad4972",
   "metadata": {},
   "outputs": [
    {
     "data": {
      "text/plain": [
       "{'_age': 10}"
      ]
     },
     "execution_count": 8,
     "metadata": {},
     "output_type": "execute_result"
    }
   ],
   "source": [
    "p.__dict__"
   ]
  },
  {
   "cell_type": "markdown",
   "id": "d79711c6",
   "metadata": {},
   "source": [
    "##### Application Example"
   ]
  },
  {
   "cell_type": "code",
   "execution_count": 2,
   "id": "e4e99857",
   "metadata": {},
   "outputs": [],
   "source": [
    "class Int:\n",
    "    def __set_name__(self, owner_class, prop_name):\n",
    "        self.prop_name = prop_name\n",
    "        \n",
    "    def __set__(self, instance, value):\n",
    "        if not isinstance(value, int):\n",
    "            raise ValueError(f'{self.prop_name} must be an integer')\n",
    "        instance.__dict__[self.prop_name] = value\n",
    "        \n",
    "    def __get__(self, instance, owner_class):\n",
    "        if instance is None:\n",
    "            return self\n",
    "        else:\n",
    "            return instance.__dict__.get(self.prop_name, None)"
   ]
  },
  {
   "cell_type": "code",
   "execution_count": 3,
   "id": "8a0c9786",
   "metadata": {},
   "outputs": [],
   "source": [
    "class Float:\n",
    "    def __set_name__(self, owner_class, prop_name):\n",
    "        self.prop_name = prop_name\n",
    "        \n",
    "    def __set__(self, instance, value):\n",
    "        if not isinstance(value, float):\n",
    "            raise ValueError(f'{self.prop_name} must be an float')\n",
    "        instance.__dict__[self.prop_name] = value\n",
    "        \n",
    "    def __get__(self, instance, owner_class):\n",
    "        if instance is None:\n",
    "            return self\n",
    "        else:\n",
    "            return instance.__dict__.get(self.prop_name, None)"
   ]
  },
  {
   "cell_type": "code",
   "execution_count": 4,
   "id": "ae1cba83",
   "metadata": {},
   "outputs": [],
   "source": [
    "class List:\n",
    "    def __set_name__(self, owner_class, prop_name):\n",
    "        self.prop_name = prop_name\n",
    "        \n",
    "    def __set__(self, instance, value):\n",
    "        if not isinstance(value, list):\n",
    "            raise ValueError(f'{self.prop_name} must be an list')\n",
    "        instance.__dict__[self.prop_name] = value\n",
    "        \n",
    "    def __get__(self, instance, owner_class):\n",
    "        if instance is None:\n",
    "            return self\n",
    "        else:\n",
    "            return instance.__dict__.get(self.prop_name, None)"
   ]
  },
  {
   "cell_type": "code",
   "execution_count": 5,
   "id": "eba11aa9",
   "metadata": {},
   "outputs": [],
   "source": [
    "class Person:\n",
    "    age = Int()\n",
    "    height = Float()\n",
    "    tags = List()\n",
    "    favorite_foods = List()"
   ]
  },
  {
   "cell_type": "code",
   "execution_count": 6,
   "id": "9566447e",
   "metadata": {},
   "outputs": [],
   "source": [
    "p = Person()"
   ]
  },
  {
   "cell_type": "code",
   "execution_count": 7,
   "id": "316c32fe",
   "metadata": {},
   "outputs": [
    {
     "name": "stdout",
     "output_type": "stream",
     "text": [
      "tags must be an list\n"
     ]
    }
   ],
   "source": [
    "try:\n",
    "    p.tags = 'abc'\n",
    "except ValueError as ex:\n",
    "    print(ex)"
   ]
  },
  {
   "cell_type": "code",
   "execution_count": 8,
   "id": "88c69ddb",
   "metadata": {},
   "outputs": [],
   "source": [
    "class ValidType:\n",
    "    def __init__(self, type_):\n",
    "        self._type = type_\n",
    "        \n",
    "    def __set_name__(self, owner_class, prop_name):\n",
    "        self.prop_name = prop_name\n",
    "        \n",
    "    def __set__(self, instance, value):\n",
    "        if not isinstance(value, self._type):\n",
    "            raise ValueError(f'{self.prop_name} must be of type {self._type.__name__}.')\n",
    "            \n",
    "    def __get__(self, instance, owner_class):\n",
    "        if instance is None:\n",
    "            return self\n",
    "        else:\n",
    "            return instance.__dict__.get(self.prop_name, None)"
   ]
  },
  {
   "cell_type": "code",
   "execution_count": 9,
   "id": "b4fbfa35",
   "metadata": {},
   "outputs": [],
   "source": [
    "class Person:\n",
    "    age = ValidType(int)\n",
    "    height = ValidType(float)\n",
    "    tags = ValidType(list)\n",
    "    favorite_foods = ValidType(list)"
   ]
  },
  {
   "cell_type": "code",
   "execution_count": 10,
   "id": "04e57009",
   "metadata": {},
   "outputs": [
    {
     "name": "stdout",
     "output_type": "stream",
     "text": [
      "tags must be an list\n"
     ]
    }
   ],
   "source": [
    "try:\n",
    "    p.tags = 'abc'\n",
    "except ValueError as ex:\n",
    "    print(ex)"
   ]
  }
 ],
 "metadata": {
  "kernelspec": {
   "display_name": "Python 3 (ipykernel)",
   "language": "python",
   "name": "python3"
  },
  "language_info": {
   "codemirror_mode": {
    "name": "ipython",
    "version": 3
   },
   "file_extension": ".py",
   "mimetype": "text/x-python",
   "name": "python",
   "nbconvert_exporter": "python",
   "pygments_lexer": "ipython3",
   "version": "3.11.2"
  }
 },
 "nbformat": 4,
 "nbformat_minor": 5
}
