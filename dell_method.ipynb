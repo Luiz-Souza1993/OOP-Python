{
 "cells": [
  {
   "cell_type": "markdown",
   "id": "b3816c75",
   "metadata": {},
   "source": [
    "### The '__del__' method"
   ]
  },
  {
   "cell_type": "code",
   "execution_count": 5,
   "id": "95398d8a",
   "metadata": {},
   "outputs": [],
   "source": [
    "import ctypes\n",
    "\n",
    "def ref_count(address):\n",
    "    return ctypes.c_long.from_address(address).value"
   ]
  },
  {
   "cell_type": "code",
   "execution_count": 6,
   "id": "70df295f",
   "metadata": {},
   "outputs": [],
   "source": [
    "class Person:\n",
    "    def __init__(self, name):\n",
    "        self.name = name\n",
    "        \n",
    "    def __repr__(self):\n",
    "        return f'Person({self.name})'\n",
    "    \n",
    "    def __del__(self):\n",
    "        print(f'__del__ called for {self}....')"
   ]
  },
  {
   "cell_type": "code",
   "execution_count": 3,
   "id": "da15962f",
   "metadata": {},
   "outputs": [],
   "source": [
    "p = Person('Alex')"
   ]
  },
  {
   "cell_type": "code",
   "execution_count": 7,
   "id": "5da65c08",
   "metadata": {},
   "outputs": [
    {
     "data": {
      "text/plain": [
       "1"
      ]
     },
     "execution_count": 7,
     "metadata": {},
     "output_type": "execute_result"
    }
   ],
   "source": [
    "id_p = id(p)\n",
    "ref_count(id_p)"
   ]
  },
  {
   "cell_type": "code",
   "execution_count": 8,
   "id": "275b40a6",
   "metadata": {},
   "outputs": [
    {
     "name": "stdout",
     "output_type": "stream",
     "text": [
      "__del__ called for Person(Alex)....\n"
     ]
    }
   ],
   "source": [
    "del p"
   ]
  }
 ],
 "metadata": {
  "kernelspec": {
   "display_name": "Python 3 (ipykernel)",
   "language": "python",
   "name": "python3"
  },
  "language_info": {
   "codemirror_mode": {
    "name": "ipython",
    "version": 3
   },
   "file_extension": ".py",
   "mimetype": "text/x-python",
   "name": "python",
   "nbconvert_exporter": "python",
   "pygments_lexer": "ipython3",
   "version": "3.9.13"
  }
 },
 "nbformat": 4,
 "nbformat_minor": 5
}
