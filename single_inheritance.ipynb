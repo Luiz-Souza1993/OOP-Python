{
 "cells": [
  {
   "cell_type": "markdown",
   "id": "ea49110a",
   "metadata": {},
   "source": [
    "### Single Inheritance"
   ]
  },
  {
   "cell_type": "code",
   "execution_count": 1,
   "id": "35238385",
   "metadata": {},
   "outputs": [],
   "source": [
    "class Shape:\n",
    "    pass"
   ]
  },
  {
   "cell_type": "code",
   "execution_count": 2,
   "id": "d45f274f",
   "metadata": {},
   "outputs": [],
   "source": [
    "class Ellipse(Shape):\n",
    "    pass\n",
    "\n",
    "class Circle(Shape):\n",
    "    pass\n",
    "\n",
    "class Polygon(Shape):\n",
    "    pass\n",
    "\n",
    "class Rectangle(Shape):\n",
    "    pass\n",
    "\n",
    "class Square(Shape):\n",
    "    pass\n",
    "\n",
    "class Triangle(Shape):\n",
    "    pass"
   ]
  },
  {
   "cell_type": "code",
   "execution_count": 3,
   "id": "c918a111",
   "metadata": {},
   "outputs": [
    {
     "data": {
      "text/plain": [
       "True"
      ]
     },
     "execution_count": 3,
     "metadata": {},
     "output_type": "execute_result"
    }
   ],
   "source": [
    "issubclass(Ellipse, Shape)"
   ]
  },
  {
   "cell_type": "markdown",
   "id": "c80eb9a2",
   "metadata": {},
   "source": [
    "#### The Object Class"
   ]
  },
  {
   "cell_type": "code",
   "execution_count": 4,
   "id": "762dfb82",
   "metadata": {},
   "outputs": [
    {
     "data": {
      "text/plain": [
       "(type, type, type)"
      ]
     },
     "execution_count": 4,
     "metadata": {},
     "output_type": "execute_result"
    }
   ],
   "source": [
    "type(object) , type(int), type(str)"
   ]
  },
  {
   "cell_type": "code",
   "execution_count": 5,
   "id": "0e9107af",
   "metadata": {},
   "outputs": [],
   "source": [
    "class Person:\n",
    "    pass"
   ]
  },
  {
   "cell_type": "code",
   "execution_count": 6,
   "id": "f92e238e",
   "metadata": {},
   "outputs": [
    {
     "data": {
      "text/plain": [
       "True"
      ]
     },
     "execution_count": 6,
     "metadata": {},
     "output_type": "execute_result"
    }
   ],
   "source": [
    "issubclass(Person, object)"
   ]
  },
  {
   "cell_type": "code",
   "execution_count": 7,
   "id": "7d3363c0",
   "metadata": {},
   "outputs": [],
   "source": [
    "import math"
   ]
  },
  {
   "cell_type": "code",
   "execution_count": 8,
   "id": "756fc80a",
   "metadata": {},
   "outputs": [
    {
     "data": {
      "text/plain": [
       "True"
      ]
     },
     "execution_count": 8,
     "metadata": {},
     "output_type": "execute_result"
    }
   ],
   "source": [
    "issubclass(type(math), object)"
   ]
  },
  {
   "cell_type": "markdown",
   "id": "7d3f5420",
   "metadata": {},
   "source": [
    "#### Overriding"
   ]
  },
  {
   "cell_type": "code",
   "execution_count": 9,
   "id": "35195183",
   "metadata": {},
   "outputs": [],
   "source": [
    "class Person:\n",
    "    pass"
   ]
  },
  {
   "cell_type": "code",
   "execution_count": 10,
   "id": "35207ca0",
   "metadata": {},
   "outputs": [
    {
     "data": {
      "text/plain": [
       "'<__main__.Person object at 0x0000027CD9DE4490>'"
      ]
     },
     "execution_count": 10,
     "metadata": {},
     "output_type": "execute_result"
    }
   ],
   "source": [
    "p = Person()\n",
    "str(p)"
   ]
  },
  {
   "cell_type": "code",
   "execution_count": 11,
   "id": "7e550c3c",
   "metadata": {},
   "outputs": [],
   "source": [
    "class Person:\n",
    "    def __repr__(self):\n",
    "        return 'Person() with extra debugging info'"
   ]
  },
  {
   "cell_type": "code",
   "execution_count": 12,
   "id": "bafd281d",
   "metadata": {},
   "outputs": [
    {
     "data": {
      "text/plain": [
       "'Person() with extra debugging info'"
      ]
     },
     "execution_count": 12,
     "metadata": {},
     "output_type": "execute_result"
    }
   ],
   "source": [
    "p = Person()\n",
    "str(p)"
   ]
  },
  {
   "cell_type": "code",
   "execution_count": 13,
   "id": "9d949e31",
   "metadata": {},
   "outputs": [
    {
     "data": {
      "text/plain": [
       "'Person() with extra debugging info'"
      ]
     },
     "execution_count": 13,
     "metadata": {},
     "output_type": "execute_result"
    }
   ],
   "source": [
    "p.__str__()"
   ]
  },
  {
   "cell_type": "code",
   "execution_count": 14,
   "id": "70a1f215",
   "metadata": {},
   "outputs": [],
   "source": [
    "class Shape:\n",
    "    def __init__(self, name):\n",
    "        self.name = name\n",
    "        \n",
    "    def info(self):\n",
    "        return f'Shape.info called for Shape({self.name})'\n",
    "    \n",
    "    def extended_info(self):\n",
    "        return f'Shape.extended_info called for shape({self.name})'\n",
    "    \n",
    "class Polygon(Shape):\n",
    "    def __init__(self, name):\n",
    "        self.name = name\n",
    "        \n",
    "    def info(self):\n",
    "        return f'Polygon info called for Polygoon({self.name})'"
   ]
  },
  {
   "cell_type": "code",
   "execution_count": 15,
   "id": "21d182fc",
   "metadata": {},
   "outputs": [],
   "source": [
    "p = Polygon('square')"
   ]
  },
  {
   "cell_type": "code",
   "execution_count": 16,
   "id": "4cc13608",
   "metadata": {},
   "outputs": [
    {
     "data": {
      "text/plain": [
       "'Polygon info called for Polygoon(square)'"
      ]
     },
     "execution_count": 16,
     "metadata": {},
     "output_type": "execute_result"
    }
   ],
   "source": [
    "p.info()"
   ]
  },
  {
   "cell_type": "code",
   "execution_count": 17,
   "id": "17e6216d",
   "metadata": {},
   "outputs": [
    {
     "data": {
      "text/plain": [
       "'Shape.extended_info called for shape(square)'"
      ]
     },
     "execution_count": 17,
     "metadata": {},
     "output_type": "execute_result"
    }
   ],
   "source": [
    "p.extended_info()"
   ]
  },
  {
   "cell_type": "code",
   "execution_count": 18,
   "id": "208765a1",
   "metadata": {},
   "outputs": [],
   "source": [
    "class Shape:\n",
    "    def __init__(self, name):\n",
    "        self.name = name\n",
    "        \n",
    "    def info(self):\n",
    "        return f'Shape.info called for Shape({self.name})'\n",
    "    \n",
    "    def extended_info(self):\n",
    "        return f'Shape.extended_info called for shape({self.name})', self.info()\n",
    "    \n",
    "class Polygon(Shape):\n",
    "    def __init__(self, name):\n",
    "        self.name = name\n",
    "        \n",
    "    def info(self):\n",
    "        return f'Polygon info called for Polygoon({self.name})'"
   ]
  },
  {
   "cell_type": "code",
   "execution_count": 19,
   "id": "d3d59dd6",
   "metadata": {},
   "outputs": [],
   "source": [
    "p = Polygon('square')"
   ]
  },
  {
   "cell_type": "code",
   "execution_count": 20,
   "id": "8a7b8b65",
   "metadata": {},
   "outputs": [
    {
     "data": {
      "text/plain": [
       "('Shape.extended_info called for shape(square)',\n",
       " 'Polygon info called for Polygoon(square)')"
      ]
     },
     "execution_count": 20,
     "metadata": {},
     "output_type": "execute_result"
    }
   ],
   "source": [
    "p.extended_info()"
   ]
  },
  {
   "cell_type": "code",
   "execution_count": 21,
   "id": "3b1e2318",
   "metadata": {},
   "outputs": [],
   "source": [
    "class Person:\n",
    "    def __str__(self):\n",
    "        return 'Person.__str__ called'\n",
    "    \n",
    "class Student(Person):\n",
    "    def __repr__(self):\n",
    "        return 'Student.__repr__ called'"
   ]
  },
  {
   "cell_type": "code",
   "execution_count": 22,
   "id": "921cdd52",
   "metadata": {},
   "outputs": [],
   "source": [
    "s = Student()"
   ]
  },
  {
   "cell_type": "code",
   "execution_count": 23,
   "id": "866b1610",
   "metadata": {},
   "outputs": [
    {
     "data": {
      "text/plain": [
       "('Person.__str__ called', 'Student.__repr__ called')"
      ]
     },
     "execution_count": 23,
     "metadata": {},
     "output_type": "execute_result"
    }
   ],
   "source": [
    "str(s), repr(s)"
   ]
  },
  {
   "cell_type": "markdown",
   "id": "5bf1fcaf",
   "metadata": {},
   "source": [
    "#### Extending"
   ]
  },
  {
   "cell_type": "code",
   "execution_count": 24,
   "id": "a4bd5130",
   "metadata": {},
   "outputs": [],
   "source": [
    "class Person:\n",
    "    def routine(self):\n",
    "        result = self.eat()\n",
    "        if hasattr(self, 'study'):\n",
    "            result += self.study()\n",
    "        result += self.sleep()\n",
    "        return result\n",
    "    \n",
    "    def eat(self):\n",
    "        return 'Person eats...'\n",
    "    \n",
    "    def sleep(self):\n",
    "        return 'Person sleeps...'"
   ]
  },
  {
   "cell_type": "code",
   "execution_count": 25,
   "id": "a3ee3354",
   "metadata": {},
   "outputs": [],
   "source": [
    "class Student(Person):\n",
    "    def study(self):\n",
    "        return 'Student studies...'"
   ]
  },
  {
   "cell_type": "code",
   "execution_count": 26,
   "id": "08fc7c21",
   "metadata": {},
   "outputs": [
    {
     "data": {
      "text/plain": [
       "'Person eats...Student studies...Person sleeps...'"
      ]
     },
     "execution_count": 26,
     "metadata": {},
     "output_type": "execute_result"
    }
   ],
   "source": [
    "s = Student()\n",
    "s.routine()"
   ]
  },
  {
   "cell_type": "code",
   "execution_count": 27,
   "id": "2476a492",
   "metadata": {},
   "outputs": [
    {
     "data": {
      "text/plain": [
       "'Person eats...Person sleeps...'"
      ]
     },
     "execution_count": 27,
     "metadata": {},
     "output_type": "execute_result"
    }
   ],
   "source": [
    "p = Person()\n",
    "p.routine()"
   ]
  },
  {
   "cell_type": "code",
   "execution_count": 28,
   "id": "a7c61ece",
   "metadata": {},
   "outputs": [],
   "source": [
    "class Account:\n",
    "    apr = 3.0\n",
    "    \n",
    "    def __init__(self, account_number, balance):\n",
    "        self.account_number = account_number\n",
    "        self.balance = balance\n",
    "        self.account_type = 'Generic Account'\n",
    "        \n",
    "    def calc_interest(self):\n",
    "        return f'Calc interest on {self.account_type} with APR = {self.apr}'"
   ]
  },
  {
   "cell_type": "code",
   "execution_count": 29,
   "id": "1365153e",
   "metadata": {},
   "outputs": [],
   "source": [
    "a = Account(123, 100)"
   ]
  },
  {
   "cell_type": "code",
   "execution_count": 30,
   "id": "c4d3ad29",
   "metadata": {},
   "outputs": [
    {
     "data": {
      "text/plain": [
       "(3.0, 'Generic Account', 'Calc interest on Generic Account with APR = 3.0')"
      ]
     },
     "execution_count": 30,
     "metadata": {},
     "output_type": "execute_result"
    }
   ],
   "source": [
    "a.apr, a.account_type, a.calc_interest()"
   ]
  },
  {
   "cell_type": "code",
   "execution_count": 31,
   "id": "c616d68b",
   "metadata": {},
   "outputs": [],
   "source": [
    "class Savings(Account):\n",
    "    apr = 5.0\n",
    "    \n",
    "    def __init__(self, account_number, balance):\n",
    "        self.account_number = account_number\n",
    "        self.balance = balance\n",
    "        self.account_type = 'Savings Account'      "
   ]
  },
  {
   "cell_type": "code",
   "execution_count": 32,
   "id": "6b88af42",
   "metadata": {},
   "outputs": [],
   "source": [
    "s = Savings(234, 200)"
   ]
  },
  {
   "cell_type": "code",
   "execution_count": 33,
   "id": "fa0645ce",
   "metadata": {},
   "outputs": [
    {
     "data": {
      "text/plain": [
       "(5.0, 'Savings Account', 'Calc interest on Savings Account with APR = 5.0')"
      ]
     },
     "execution_count": 33,
     "metadata": {},
     "output_type": "execute_result"
    }
   ],
   "source": [
    "s.apr, s.account_type, s.calc_interest()"
   ]
  },
  {
   "cell_type": "markdown",
   "id": "3a121892",
   "metadata": {},
   "source": [
    "#### Slots"
   ]
  },
  {
   "cell_type": "code",
   "execution_count": 34,
   "id": "621fd700",
   "metadata": {},
   "outputs": [],
   "source": [
    "class Location:\n",
    "    __slots__ = 'name', '_longitude', '_latitude'\n",
    "    \n",
    "    def __init__(self, name, *args, longitude, latitude):\n",
    "        self.name = name\n",
    "        self._longitude = longitude\n",
    "        self._latitude = latitude\n",
    "        \n",
    "    @property\n",
    "    def longitude(self):\n",
    "        return self._longitude\n",
    "    \n",
    "    @property\n",
    "    def latitude(self):\n",
    "        return self._latitude"
   ]
  },
  {
   "cell_type": "code",
   "execution_count": 35,
   "id": "5a194e55",
   "metadata": {},
   "outputs": [
    {
     "data": {
      "text/plain": [
       "mappingproxy({'__module__': '__main__',\n",
       "              '__slots__': ('name', '_longitude', '_latitude'),\n",
       "              '__init__': <function __main__.Location.__init__(self, name, *args, longitude, latitude)>,\n",
       "              'longitude': <property at 0x27cd9e00c20>,\n",
       "              'latitude': <property at 0x27cd9e0e8b0>,\n",
       "              '_latitude': <member '_latitude' of 'Location' objects>,\n",
       "              '_longitude': <member '_longitude' of 'Location' objects>,\n",
       "              'name': <member 'name' of 'Location' objects>,\n",
       "              '__doc__': None})"
      ]
     },
     "execution_count": 35,
     "metadata": {},
     "output_type": "execute_result"
    }
   ],
   "source": [
    "Location.__dict__"
   ]
  },
  {
   "cell_type": "code",
   "execution_count": 36,
   "id": "a07369ad",
   "metadata": {},
   "outputs": [],
   "source": [
    "l = Location('Joinville', longitude = 10, latitude = 15)"
   ]
  },
  {
   "cell_type": "code",
   "execution_count": 37,
   "id": "f0bcc432",
   "metadata": {},
   "outputs": [
    {
     "data": {
      "text/plain": [
       "('name', '_longitude', '_latitude')"
      ]
     },
     "execution_count": 37,
     "metadata": {},
     "output_type": "execute_result"
    }
   ],
   "source": [
    "l.__slots__"
   ]
  },
  {
   "cell_type": "markdown",
   "id": "4798df08",
   "metadata": {},
   "source": [
    "#### Slots and Single Inheritance"
   ]
  },
  {
   "cell_type": "code",
   "execution_count": 38,
   "id": "87082d51",
   "metadata": {},
   "outputs": [],
   "source": [
    "class Person:\n",
    "    __slots__ = 'name',\n",
    "    \n",
    "    def __init__(self, name):\n",
    "        self.name = name\n",
    "        \n",
    "class Student(Person):\n",
    "    pass"
   ]
  },
  {
   "cell_type": "code",
   "execution_count": 39,
   "id": "e25ed9d9",
   "metadata": {},
   "outputs": [],
   "source": [
    "p = Person('Luiz')"
   ]
  },
  {
   "cell_type": "code",
   "execution_count": 40,
   "id": "614542af",
   "metadata": {},
   "outputs": [],
   "source": [
    "s = Student('Jenniffer')"
   ]
  },
  {
   "cell_type": "code",
   "execution_count": 41,
   "id": "6e857286",
   "metadata": {},
   "outputs": [
    {
     "data": {
      "text/plain": [
       "{}"
      ]
     },
     "execution_count": 41,
     "metadata": {},
     "output_type": "execute_result"
    }
   ],
   "source": [
    "s.__dict__"
   ]
  },
  {
   "cell_type": "code",
   "execution_count": 42,
   "id": "18a7f872",
   "metadata": {},
   "outputs": [],
   "source": [
    "s.age = 30"
   ]
  },
  {
   "cell_type": "code",
   "execution_count": 43,
   "id": "8b92e4ca",
   "metadata": {},
   "outputs": [],
   "source": [
    "class Person:\n",
    "    __slots__ = 'name',\n",
    "    \n",
    "    def __init__(self, name):\n",
    "        self.name = name\n",
    "        \n",
    "class Student(Person):\n",
    "    __slots__ = 'school', 'student_number'\n",
    "    \n",
    "    def __init__(self, name, school, student_numer):\n",
    "        super().__init__(name)\n",
    "        self.school = school\n",
    "        self.student_number = student_numer"
   ]
  },
  {
   "cell_type": "code",
   "execution_count": 44,
   "id": "b084b256",
   "metadata": {},
   "outputs": [],
   "source": [
    "p = Person('Luiz')\n",
    "s = Student('Jennifer', 'Juracy', '12345')"
   ]
  },
  {
   "cell_type": "code",
   "execution_count": 45,
   "id": "176cf3fc",
   "metadata": {},
   "outputs": [
    {
     "data": {
      "text/plain": [
       "(('name',),\n",
       " ('school', 'student_number'),\n",
       " 'Luiz',\n",
       " 'Jennifer',\n",
       " 'Juracy',\n",
       " '12345')"
      ]
     },
     "execution_count": 45,
     "metadata": {},
     "output_type": "execute_result"
    }
   ],
   "source": [
    "p.__slots__, s.__slots__, p.name, s.name, s.school, s.student_number"
   ]
  },
  {
   "cell_type": "markdown",
   "id": "303cd9ac",
   "metadata": {},
   "source": [
    "#### Delegating to Parent"
   ]
  },
  {
   "cell_type": "code",
   "execution_count": 46,
   "id": "fc696e20",
   "metadata": {},
   "outputs": [],
   "source": [
    "class Person:\n",
    "    def work(self):\n",
    "        return 'Person works.....'\n",
    "    \n",
    "class Student(Person):\n",
    "    def work(self):\n",
    "        result = super().work()\n",
    "        return f'Student works....and {result}'"
   ]
  },
  {
   "cell_type": "code",
   "execution_count": 47,
   "id": "4bfad7d0",
   "metadata": {},
   "outputs": [
    {
     "data": {
      "text/plain": [
       "'Student works....and Person works.....'"
      ]
     },
     "execution_count": 47,
     "metadata": {},
     "output_type": "execute_result"
    }
   ],
   "source": [
    "s = Student()\n",
    "s.work()"
   ]
  },
  {
   "cell_type": "code",
   "execution_count": 51,
   "id": "bad64aee",
   "metadata": {},
   "outputs": [],
   "source": [
    "class Person:\n",
    "    def work(self):\n",
    "        return 'Person works...'\n",
    "    \n",
    "class Student(Person):\n",
    "    def work(self):\n",
    "        result = super().work()\n",
    "        return f'Student codes.... and {result}'\n",
    "\n",
    "class PythonStudent(Student):\n",
    "    def work(self):\n",
    "        result = super().work()\n",
    "        return f'PythonStudent codes.... and {result}'"
   ]
  },
  {
   "cell_type": "code",
   "execution_count": 52,
   "id": "e8bc531e",
   "metadata": {},
   "outputs": [
    {
     "data": {
      "text/plain": [
       "'PythonStudent codes.... and Student codes.... and Person works...'"
      ]
     },
     "execution_count": 52,
     "metadata": {},
     "output_type": "execute_result"
    }
   ],
   "source": [
    "ps = PythonStudent()\n",
    "ps.work()"
   ]
  },
  {
   "cell_type": "code",
   "execution_count": null,
   "id": "d8fac28d",
   "metadata": {},
   "outputs": [],
   "source": []
  },
  {
   "cell_type": "code",
   "execution_count": null,
   "id": "423d0d5b",
   "metadata": {},
   "outputs": [],
   "source": []
  },
  {
   "cell_type": "code",
   "execution_count": null,
   "id": "1740fc92",
   "metadata": {},
   "outputs": [],
   "source": []
  },
  {
   "cell_type": "code",
   "execution_count": null,
   "id": "7473dc2e",
   "metadata": {},
   "outputs": [],
   "source": []
  },
  {
   "cell_type": "code",
   "execution_count": null,
   "id": "37a15d31",
   "metadata": {},
   "outputs": [],
   "source": []
  }
 ],
 "metadata": {
  "kernelspec": {
   "display_name": "Python 3 (ipykernel)",
   "language": "python",
   "name": "python3"
  },
  "language_info": {
   "codemirror_mode": {
    "name": "ipython",
    "version": 3
   },
   "file_extension": ".py",
   "mimetype": "text/x-python",
   "name": "python",
   "nbconvert_exporter": "python",
   "pygments_lexer": "ipython3",
   "version": "3.9.13"
  }
 },
 "nbformat": 4,
 "nbformat_minor": 5
}
